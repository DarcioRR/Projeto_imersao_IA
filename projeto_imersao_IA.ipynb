{
  "nbformat": 4,
  "nbformat_minor": 0,
  "metadata": {
    "colab": {
      "provenance": [],
      "authorship_tag": "ABX9TyNziua7+C37YqjN/tbgWjgh",
      "include_colab_link": true
    },
    "kernelspec": {
      "name": "python3",
      "display_name": "Python 3"
    },
    "language_info": {
      "name": "python"
    }
  },
  "cells": [
    {
      "cell_type": "markdown",
      "metadata": {
        "id": "view-in-github",
        "colab_type": "text"
      },
      "source": [
        "<a href=\"https://colab.research.google.com/github/DarcioRR/Projeto_imersao_IA/blob/main/projeto_imersao_IA.ipynb\" target=\"_parent\"><img src=\"https://colab.research.google.com/assets/colab-badge.svg\" alt=\"Open In Colab\"/></a>"
      ]
    },
    {
      "cell_type": "markdown",
      "source": [
        "**Projeto Imersao_IA**"
      ],
      "metadata": {
        "id": "ny6EFUHFqY5w"
      }
    },
    {
      "cell_type": "markdown",
      "source": [
        "***Chatbot - para criação de receitas a partir de ingredientes solicitados***"
      ],
      "metadata": {
        "id": "5gOf_7cjtQ2r"
      }
    },
    {
      "cell_type": "code",
      "source": [
        "#Instalando o SDK do Google\n",
        "!pip install -q -U google-generativeai\n",
        "import google.generativeai as genai\n",
        "\n",
        "#Utilizar a biblioteca para formatar texto\n",
        "from colorama import init, Fore, Back, Style\n",
        "\n",
        "#configurar a chave\n",
        "from google.colab import userdata\n",
        "api_key = userdata.get('chave_secreta')\n",
        "genai.configure(api_key=api_key)\n",
        "\n",
        "# configuração de parametro somente temperatura os outros utilizar valor default\n",
        "generation_config = {\n",
        "  \"temperature\": 0,\n",
        "\n",
        "}\n",
        "\n",
        "model = genai.GenerativeModel(model_name=\"gemini-1.0-pro\",\n",
        "                              generation_config=generation_config,\n",
        "                              safety_settings=safety_settings)\n",
        "\n",
        "print(Fore.BLUE + \"Opa! Deseja uma receita rápida e saborosa? Então me liste os ingredientes principais que tem a mão e bora cozinhar!\"'\\n')\n",
        "chat = model.start_chat(history=[])\n",
        "\n",
        "enunciado = 'Digite os ingredientes para receita : '\n",
        "prompt = input(Fore.GREEN + enunciado)\n",
        "print('\\n')\n",
        "\n",
        "while prompt != \"não\":\n",
        "  response = chat.send_message(prompt)\n",
        "  print(Fore.RED + \"Resposta:\", response.text, '\\n')\n",
        "  print (Fore.YELLOW + \"Quer adicionar um ingrediente? Se estiver satisfeito com a receita responda não.\" '\\n')\n",
        "  prompt = input(Fore.GREEN + enunciado)\n",
        "  print('\\n')\n"
      ],
      "metadata": {
        "colab": {
          "base_uri": "https://localhost:8080/",
          "height": 1000
        },
        "id": "wiyPxhd0Jax6",
        "outputId": "84c6b24d-b0e6-46d9-a654-2ea0f3d66412"
      },
      "execution_count": 63,
      "outputs": [
        {
          "output_type": "stream",
          "name": "stdout",
          "text": [
            "\u001b[34mOpa! Deseja uma receita rápida e saborosa? Então me liste os ingredientes principais que tem a mão e bora cozinhar!\n",
            "\n",
            "\u001b[32mDigite os ingredientes para receita : cogumelos, camarão e resto de arroz cozido\n",
            "\n",
            "\n",
            "\u001b[31mResposta: **Ingredientes:**\n",
            "\n",
            "* 1 xícara de cogumelos fatiados\n",
            "* 1/2 xícara de camarão cozido\n",
            "* 1 xícara de arroz cozido\n",
            "* 1/4 xícara de cebola picada\n",
            "* 1/4 xícara de pimentão verde picado\n",
            "* 2 colheres de sopa de azeite\n",
            "* 1/4 xícara de caldo de legumes\n",
            "* 1/4 xícara de molho de soja\n",
            "* 1 colher de sopa de açúcar\n",
            "* 1/2 colher de chá de gengibre ralado\n",
            "* 1/4 colher de chá de alho em pó\n",
            "* Sal e pimenta a gosto\n",
            "\n",
            "**Instruções:**\n",
            "\n",
            "1. Aqueça o azeite em uma frigideira grande em fogo médio.\n",
            "2. Adicione a cebola e o pimentão verde e refogue até ficarem macios, cerca de 5 minutos.\n",
            "3. Adicione os cogumelos e cozinhe até ficarem macios e dourados, cerca de 5 minutos.\n",
            "4. Adicione o camarão, o arroz, o caldo de legumes, o molho de soja, o açúcar, o gengibre e o alho em pó.\n",
            "5. Tempere com sal e pimenta a gosto.\n",
            "6. Cozinhe até que o arroz esteja aquecido e o líquido tenha sido absorvido, cerca de 5 minutos.\n",
            "7. Sirva imediatamente.\n",
            "\n",
            "**Dicas:**\n",
            "\n",
            "* Você pode usar qualquer tipo de cogumelo que desejar, como shiitake, ostra ou botão branco.\n",
            "* Se você não tiver camarão cozido, pode usar camarão cru e cozinhá-lo na frigideira antes de adicionar os outros ingredientes.\n",
            "* Você pode adicionar outros vegetais ao prato, como cenoura, aipo ou ervilhas.\n",
            "* Sirva com molho de soja extra ou sriracha para um toque picante. \n",
            "\n",
            "\u001b[33mQuer adicionar um ingrediente? Se estiver satisfeito com a receita responda não.\n",
            "\n",
            "\u001b[32mDigite os ingredientes para receita : acrescente creme de leite\n",
            "\n",
            "\n",
            "\u001b[31mResposta: **Ingredientes:**\n",
            "\n",
            "* 1 xícara de cogumelos fatiados\n",
            "* 1/2 xícara de camarão cozido\n",
            "* 1 xícara de arroz cozido\n",
            "* 1/4 xícara de cebola picada\n",
            "* 1/4 xícara de pimentão verde picado\n",
            "* 2 colheres de sopa de azeite\n",
            "* 1/4 xícara de caldo de legumes\n",
            "* 1/4 xícara de molho de soja\n",
            "* 1 colher de sopa de açúcar\n",
            "* 1/2 colher de chá de gengibre ralado\n",
            "* 1/4 colher de chá de alho em pó\n",
            "* 1/2 xícara de creme de leite\n",
            "* Sal e pimenta a gosto\n",
            "\n",
            "**Instruções:**\n",
            "\n",
            "1. Aqueça o azeite em uma frigideira grande em fogo médio.\n",
            "2. Adicione a cebola e o pimentão verde e refogue até ficarem macios, cerca de 5 minutos.\n",
            "3. Adicione os cogumelos e cozinhe até ficarem macios e dourados, cerca de 5 minutos.\n",
            "4. Adicione o camarão, o arroz, o caldo de legumes, o molho de soja, o açúcar, o gengibre e o alho em pó.\n",
            "5. Tempere com sal e pimenta a gosto.\n",
            "6. Cozinhe até que o arroz esteja aquecido e o líquido tenha sido absorvido, cerca de 5 minutos.\n",
            "7. Adicione o creme de leite e cozinhe por mais 1-2 minutos, ou até que esteja aquecido.\n",
            "8. Sirva imediatamente.\n",
            "\n",
            "**Dicas:**\n",
            "\n",
            "* Você pode usar qualquer tipo de cogumelo que desejar, como shiitake, ostra ou botão branco.\n",
            "* Se você não tiver camarão cozido, pode usar camarão cru e cozinhá-lo na frigideira antes de adicionar os outros ingredientes.\n",
            "* Você pode adicionar outros vegetais ao prato, como cenoura, aipo ou ervilhas.\n",
            "* Sirva com molho de soja extra ou sriracha para um toque picante. \n",
            "\n",
            "\u001b[33mQuer adicionar um ingrediente? Se estiver satisfeito com a receita responda não.\n",
            "\n",
            "\u001b[32mDigite os ingredientes para receita : não\n",
            "\n",
            "\n"
          ]
        }
      ]
    }
  ]
}